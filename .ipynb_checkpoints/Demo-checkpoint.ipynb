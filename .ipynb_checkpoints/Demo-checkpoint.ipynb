{
 "cells": [
  {
   "cell_type": "code",
   "execution_count": 13,
   "metadata": {},
   "outputs": [],
   "source": [
    "from util import *\n",
    "from util import Psr_query\n",
    "from snr import process\n",
    "process_snr = process"
   ]
  },
  {
   "cell_type": "code",
   "execution_count": 16,
   "metadata": {},
   "outputs": [],
   "source": [
    "testfilename = \"GBT_57438_42346_J1239+2453_mid.h5\"\n",
    "testfilepath = \"/mnt_blpd13/datax/cal_and_psrs/\"\n",
    "servername =\"shufanl@blpl1.ssl.berkeley.edu\"\n",
    "testfil = \"spliced_blc7071727374757677_guppi_58845_40114_PSR_B1133+16_0009.gpuspec.0002.fil\""
   ]
  },
  {
   "cell_type": "code",
   "execution_count": 4,
   "metadata": {},
   "outputs": [],
   "source": [
    "h = Psr_query()"
   ]
  },
  {
   "cell_type": "code",
   "execution_count": 9,
   "metadata": {},
   "outputs": [
    {
     "data": {
      "text/plain": [
       "0.7232"
      ]
     },
     "execution_count": 9,
     "metadata": {},
     "output_type": "execute_result"
    }
   ],
   "source": [
    "h.read_score(testfilename)"
   ]
  },
  {
   "cell_type": "code",
   "execution_count": 8,
   "metadata": {},
   "outputs": [],
   "source": [
    "h.write_score(testfilename,0.7232)"
   ]
  },
  {
   "cell_type": "code",
   "execution_count": 10,
   "metadata": {},
   "outputs": [
    {
     "name": "stdout",
     "output_type": "stream",
     "text": [
      "1482.8718981481434\n"
     ]
    },
    {
     "data": {
      "text/plain": [
       "'shufanl@blpl1.ssl.berkeley.edu:/mnt_blpd13/datax/cal_and_psrs/spliced_blc10111213141516o7o0212223242526o7o0313233343536o7o041424344454647_guppi_58921_31278_PSR_B1929+10_0020.rawspec.0000.fil'"
      ]
     },
     "execution_count": 10,
     "metadata": {},
     "output_type": "execute_result"
    }
   ],
   "source": [
    "servername+\":\"+h.latest_psr(testfilename)"
   ]
  },
  {
   "cell_type": "code",
   "execution_count": 11,
   "metadata": {},
   "outputs": [
    {
     "name": "stdout",
     "output_type": "stream",
     "text": [
      "921.3620138888873\n"
     ]
    },
    {
     "data": {
      "text/plain": [
       "'spliced_blc10111213141516o7o0212223242526o7o0313233343536o7o041424344454647_guppi_58921_31278_PSR_B1929+10_0020.rawspec.0000.fil'"
      ]
     },
     "execution_count": 11,
     "metadata": {},
     "output_type": "execute_result"
    }
   ],
   "source": [
    "h.get_closest_observations(h.data,58000)"
   ]
  },
  {
   "cell_type": "code",
   "execution_count": 17,
   "metadata": {},
   "outputs": [
    {
     "name": "stdout",
     "output_type": "stream",
     "text": [
      "B1133+16\n",
      "dspsr -E tmp.par spliced_blc7071727374757677_guppi_58845_40114_PSR_B1133+16_0009.gpuspec.0002.fil -O spliced_blc7071727374757677_guppi_58845_40114_PSR_B1133+16_0009.gpuspec.0002\n",
      "psrstat -jDF -c 'snr=modular:{on=minimum:{find_min=0,smooth:width=0.05}}' -c snr spliced_blc7071727374757677_guppi_58845_40114_PSR_B1133+16_0009.gpuspec.0002.ar \n",
      "nan\n",
      "575.586996076098\n"
     ]
    },
    {
     "data": {
      "text/plain": [
       "{'SNR': nan, 'expSNR': nan}"
      ]
     },
     "execution_count": 17,
     "metadata": {},
     "output_type": "execute_result"
    }
   ],
   "source": [
    "process_snr(testfil)"
   ]
  },
  {
   "cell_type": "code",
   "execution_count": null,
   "metadata": {},
   "outputs": [],
   "source": []
  }
 ],
 "metadata": {
  "kernelspec": {
   "display_name": "Python 3",
   "language": "python",
   "name": "python3"
  },
  "language_info": {
   "codemirror_mode": {
    "name": "ipython",
    "version": 3
   },
   "file_extension": ".py",
   "mimetype": "text/x-python",
   "name": "python",
   "nbconvert_exporter": "python",
   "pygments_lexer": "ipython3",
   "version": "3.7.3"
  }
 },
 "nbformat": 4,
 "nbformat_minor": 2
}
